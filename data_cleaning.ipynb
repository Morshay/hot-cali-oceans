{
 "cells": [
  {
   "cell_type": "markdown",
   "id": "9f467121",
   "metadata": {},
   "source": [
    "# Data Cleaning"
   ]
  },
  {
   "cell_type": "markdown",
   "id": "bf2d7f44",
   "metadata": {},
   "source": [
    "the data (specifically the measurement-specific data) weighs a couple hundred megas.  \n",
    "this notebook aims to reduce that by removing many trash columns, without any feature engineering involved.\n",
    "\n",
    "**do not run this nb, it is just for reference**"
   ]
  },
  {
   "cell_type": "markdown",
   "id": "d8f380da",
   "metadata": {},
   "source": [
    "## initializing"
   ]
  },
  {
   "cell_type": "code",
   "execution_count": 1,
   "id": "b9334eed",
   "metadata": {},
   "outputs": [],
   "source": [
    "import pandas as pd\n",
    "from numpy import nan"
   ]
  },
  {
   "cell_type": "markdown",
   "id": "a4773e8a",
   "metadata": {},
   "source": [
    "### defs"
   ]
  },
  {
   "cell_type": "code",
   "execution_count": 2,
   "id": "1f188790",
   "metadata": {},
   "outputs": [],
   "source": [
    "def count_nulls(data):\n",
    "    null_counts = data.isnull().sum()\n",
    "    print(null_counts[null_counts > 0].sort_values(ascending=False))\n",
    "    return"
   ]
  },
  {
   "cell_type": "code",
   "execution_count": 3,
   "id": "fbff7417",
   "metadata": {},
   "outputs": [],
   "source": [
    "def remove_mostly_empty_cols(df):\n",
    "    \n",
    "    print('# of cols pre cleanup:', len(df.columns))\n",
    "    \n",
    "    for col in df.columns:\n",
    "        if df[col].isna().sum() > 0.5*len(df):\n",
    "            df.drop(columns=col, inplace=True)\n",
    "    \n",
    "    print('# of cols post cleanup:', len(df.columns))\n",
    "    print(f'\\ncols:\\n{list(df.columns)}')\n",
    "    \n",
    "    return df"
   ]
  },
  {
   "cell_type": "code",
   "execution_count": 4,
   "id": "afe872df",
   "metadata": {},
   "outputs": [],
   "source": [
    "def filter_cols_by_str(name):\n",
    "    cond = df.columns.str.contains(name)\n",
    "    filt = list(df.columns[cond])\n",
    "    return filt"
   ]
  },
  {
   "cell_type": "code",
   "execution_count": 5,
   "id": "fde92a3c",
   "metadata": {},
   "outputs": [],
   "source": [
    "def compare_similar_cols(col, other_col):\n",
    "\n",
    "    diff_rows = len(df[abs(1-df[other_col]/df[col]) > .1])\n",
    "    print(f'\\n# of rows where {col} and {other_col} differ in more than 10%:')\n",
    "    print(f'{diff_rows} rows')\n",
    "\n",
    "    if diff_rows < 0.1*len(df):\n",
    "        df.drop(columns=other_col, inplace=True)\n",
    "        \n",
    "    else:\n",
    "        print(f'too many dissimilar values, unable to drop {other_col}') "
   ]
  },
  {
   "cell_type": "markdown",
   "id": "210c0858",
   "metadata": {},
   "source": [
    "### upload"
   ]
  },
  {
   "cell_type": "code",
   "execution_count": 6,
   "id": "1db7a974",
   "metadata": {},
   "outputs": [
    {
     "name": "stdout",
     "output_type": "stream",
     "text": [
      "(864863, 74)\n"
     ]
    },
    {
     "data": {
      "text/html": [
       "<div>\n",
       "<style scoped>\n",
       "    .dataframe tbody tr th:only-of-type {\n",
       "        vertical-align: middle;\n",
       "    }\n",
       "\n",
       "    .dataframe tbody tr th {\n",
       "        vertical-align: top;\n",
       "    }\n",
       "\n",
       "    .dataframe thead th {\n",
       "        text-align: right;\n",
       "    }\n",
       "</style>\n",
       "<table border=\"1\" class=\"dataframe\">\n",
       "  <thead>\n",
       "    <tr style=\"text-align: right;\">\n",
       "      <th></th>\n",
       "      <th>cst_cnt</th>\n",
       "      <th>btl_cnt</th>\n",
       "      <th>sta_id</th>\n",
       "      <th>depth_id</th>\n",
       "      <th>depthm</th>\n",
       "      <th>t_degc</th>\n",
       "      <th>salnty</th>\n",
       "      <th>o2ml_l</th>\n",
       "      <th>stheta</th>\n",
       "      <th>o2sat</th>\n",
       "      <th>...</th>\n",
       "      <th>r_phaeo</th>\n",
       "      <th>r_pres</th>\n",
       "      <th>r_samp</th>\n",
       "      <th>dic1</th>\n",
       "      <th>dic2</th>\n",
       "      <th>ta1</th>\n",
       "      <th>ta2</th>\n",
       "      <th>ph2</th>\n",
       "      <th>ph1</th>\n",
       "      <th>dic quality comment</th>\n",
       "    </tr>\n",
       "  </thead>\n",
       "  <tbody>\n",
       "    <tr>\n",
       "      <th>483300</th>\n",
       "      <td>19362</td>\n",
       "      <td>483301</td>\n",
       "      <td>100.0 060.0</td>\n",
       "      <td>19-7412JD-CT-340-0515-10000600-0800A-5</td>\n",
       "      <td>800</td>\n",
       "      <td>4.46</td>\n",
       "      <td>34.430</td>\n",
       "      <td>NaN</td>\n",
       "      <td>27.291</td>\n",
       "      <td>NaN</td>\n",
       "      <td>...</td>\n",
       "      <td>NaN</td>\n",
       "      <td>806</td>\n",
       "      <td>NaN</td>\n",
       "      <td>NaN</td>\n",
       "      <td>NaN</td>\n",
       "      <td>NaN</td>\n",
       "      <td>NaN</td>\n",
       "      <td>NaN</td>\n",
       "      <td>NaN</td>\n",
       "      <td>NaN</td>\n",
       "    </tr>\n",
       "    <tr>\n",
       "      <th>642574</th>\n",
       "      <td>26326</td>\n",
       "      <td>642575</td>\n",
       "      <td>090.0 030.0</td>\n",
       "      <td>19-8911NM-HY-316-1107-09000300-0000B-7</td>\n",
       "      <td>0</td>\n",
       "      <td>18.35</td>\n",
       "      <td>33.657</td>\n",
       "      <td>5.62</td>\n",
       "      <td>24.159</td>\n",
       "      <td>104.6</td>\n",
       "      <td>...</td>\n",
       "      <td>0.06</td>\n",
       "      <td>0</td>\n",
       "      <td>NaN</td>\n",
       "      <td>NaN</td>\n",
       "      <td>NaN</td>\n",
       "      <td>NaN</td>\n",
       "      <td>NaN</td>\n",
       "      <td>NaN</td>\n",
       "      <td>NaN</td>\n",
       "      <td>NaN</td>\n",
       "    </tr>\n",
       "    <tr>\n",
       "      <th>62138</th>\n",
       "      <td>2054</td>\n",
       "      <td>62139</td>\n",
       "      <td>072.0 060.0</td>\n",
       "      <td>19-5010ES-HY-288-1800-07200600-0259A-3</td>\n",
       "      <td>259</td>\n",
       "      <td>7.00</td>\n",
       "      <td>34.020</td>\n",
       "      <td>1.90</td>\n",
       "      <td>26.650</td>\n",
       "      <td>27.9</td>\n",
       "      <td>...</td>\n",
       "      <td>NaN</td>\n",
       "      <td>261</td>\n",
       "      <td>NaN</td>\n",
       "      <td>NaN</td>\n",
       "      <td>NaN</td>\n",
       "      <td>NaN</td>\n",
       "      <td>NaN</td>\n",
       "      <td>NaN</td>\n",
       "      <td>NaN</td>\n",
       "      <td>NaN</td>\n",
       "    </tr>\n",
       "    <tr>\n",
       "      <th>159894</th>\n",
       "      <td>6108</td>\n",
       "      <td>159895</td>\n",
       "      <td>086.7 045.0</td>\n",
       "      <td>19-5307ES-HY-199-1930-08670450-0030A-7</td>\n",
       "      <td>30</td>\n",
       "      <td>9.54</td>\n",
       "      <td>33.970</td>\n",
       "      <td>NaN</td>\n",
       "      <td>26.225</td>\n",
       "      <td>NaN</td>\n",
       "      <td>...</td>\n",
       "      <td>NaN</td>\n",
       "      <td>30</td>\n",
       "      <td>NaN</td>\n",
       "      <td>NaN</td>\n",
       "      <td>NaN</td>\n",
       "      <td>NaN</td>\n",
       "      <td>NaN</td>\n",
       "      <td>NaN</td>\n",
       "      <td>NaN</td>\n",
       "      <td>NaN</td>\n",
       "    </tr>\n",
       "    <tr>\n",
       "      <th>675545</th>\n",
       "      <td>27569</td>\n",
       "      <td>675546</td>\n",
       "      <td>081.8 046.9</td>\n",
       "      <td>19-9310NM-MX-295-1348-08180469-0329A-3</td>\n",
       "      <td>329</td>\n",
       "      <td>7.73</td>\n",
       "      <td>34.172</td>\n",
       "      <td>1.10</td>\n",
       "      <td>26.668</td>\n",
       "      <td>16.4</td>\n",
       "      <td>...</td>\n",
       "      <td>NaN</td>\n",
       "      <td>331</td>\n",
       "      <td>NaN</td>\n",
       "      <td>NaN</td>\n",
       "      <td>NaN</td>\n",
       "      <td>NaN</td>\n",
       "      <td>NaN</td>\n",
       "      <td>NaN</td>\n",
       "      <td>NaN</td>\n",
       "      <td>NaN</td>\n",
       "    </tr>\n",
       "    <tr>\n",
       "      <th>672416</th>\n",
       "      <td>27461</td>\n",
       "      <td>672417</td>\n",
       "      <td>093.3 060.0</td>\n",
       "      <td>19-9308NM-MX-225-0927-09330600-0144A-3</td>\n",
       "      <td>144</td>\n",
       "      <td>8.99</td>\n",
       "      <td>33.887</td>\n",
       "      <td>2.88</td>\n",
       "      <td>26.251</td>\n",
       "      <td>44.2</td>\n",
       "      <td>...</td>\n",
       "      <td>0.08</td>\n",
       "      <td>145</td>\n",
       "      <td>NaN</td>\n",
       "      <td>NaN</td>\n",
       "      <td>NaN</td>\n",
       "      <td>NaN</td>\n",
       "      <td>NaN</td>\n",
       "      <td>NaN</td>\n",
       "      <td>NaN</td>\n",
       "      <td>NaN</td>\n",
       "    </tr>\n",
       "    <tr>\n",
       "      <th>54772</th>\n",
       "      <td>1775</td>\n",
       "      <td>54773</td>\n",
       "      <td>050.0 110.0</td>\n",
       "      <td>19-5009BD-HY-254-0330-05001100-0086A-3</td>\n",
       "      <td>86</td>\n",
       "      <td>11.09</td>\n",
       "      <td>32.880</td>\n",
       "      <td>5.86</td>\n",
       "      <td>25.111</td>\n",
       "      <td>93.7</td>\n",
       "      <td>...</td>\n",
       "      <td>NaN</td>\n",
       "      <td>86</td>\n",
       "      <td>NaN</td>\n",
       "      <td>NaN</td>\n",
       "      <td>NaN</td>\n",
       "      <td>NaN</td>\n",
       "      <td>NaN</td>\n",
       "      <td>NaN</td>\n",
       "      <td>NaN</td>\n",
       "      <td>NaN</td>\n",
       "    </tr>\n",
       "    <tr>\n",
       "      <th>679465</th>\n",
       "      <td>27704</td>\n",
       "      <td>679466</td>\n",
       "      <td>080.0 060.0</td>\n",
       "      <td>19-9403JD-PR-094-1810-08000600-0400A-7</td>\n",
       "      <td>400</td>\n",
       "      <td>6.30</td>\n",
       "      <td>34.169</td>\n",
       "      <td>0.95</td>\n",
       "      <td>26.862</td>\n",
       "      <td>13.7</td>\n",
       "      <td>...</td>\n",
       "      <td>NaN</td>\n",
       "      <td>403</td>\n",
       "      <td>NaN</td>\n",
       "      <td>NaN</td>\n",
       "      <td>NaN</td>\n",
       "      <td>NaN</td>\n",
       "      <td>NaN</td>\n",
       "      <td>NaN</td>\n",
       "      <td>NaN</td>\n",
       "      <td>NaN</td>\n",
       "    </tr>\n",
       "    <tr>\n",
       "      <th>3272</th>\n",
       "      <td>107</td>\n",
       "      <td>3273</td>\n",
       "      <td>056.7 136.0</td>\n",
       "      <td>19-4904HO-HY-096-0042-05671360-0250A-7</td>\n",
       "      <td>250</td>\n",
       "      <td>7.35</td>\n",
       "      <td>33.817</td>\n",
       "      <td>3.06</td>\n",
       "      <td>26.442</td>\n",
       "      <td>45.3</td>\n",
       "      <td>...</td>\n",
       "      <td>NaN</td>\n",
       "      <td>251</td>\n",
       "      <td>NaN</td>\n",
       "      <td>NaN</td>\n",
       "      <td>NaN</td>\n",
       "      <td>NaN</td>\n",
       "      <td>NaN</td>\n",
       "      <td>NaN</td>\n",
       "      <td>NaN</td>\n",
       "      <td>NaN</td>\n",
       "    </tr>\n",
       "    <tr>\n",
       "      <th>93414</th>\n",
       "      <td>3114</td>\n",
       "      <td>93415</td>\n",
       "      <td>100.0 090.0</td>\n",
       "      <td>19-5107PT-HY-195-1724-10000900-0050A-7</td>\n",
       "      <td>50</td>\n",
       "      <td>14.98</td>\n",
       "      <td>33.496</td>\n",
       "      <td>NaN</td>\n",
       "      <td>24.819</td>\n",
       "      <td>NaN</td>\n",
       "      <td>...</td>\n",
       "      <td>NaN</td>\n",
       "      <td>50</td>\n",
       "      <td>NaN</td>\n",
       "      <td>NaN</td>\n",
       "      <td>NaN</td>\n",
       "      <td>NaN</td>\n",
       "      <td>NaN</td>\n",
       "      <td>NaN</td>\n",
       "      <td>NaN</td>\n",
       "      <td>NaN</td>\n",
       "    </tr>\n",
       "  </tbody>\n",
       "</table>\n",
       "<p>10 rows × 74 columns</p>\n",
       "</div>"
      ],
      "text/plain": [
       "        cst_cnt  btl_cnt       sta_id                                depth_id  \\\n",
       "483300    19362   483301  100.0 060.0  19-7412JD-CT-340-0515-10000600-0800A-5   \n",
       "642574    26326   642575  090.0 030.0  19-8911NM-HY-316-1107-09000300-0000B-7   \n",
       "62138      2054    62139  072.0 060.0  19-5010ES-HY-288-1800-07200600-0259A-3   \n",
       "159894     6108   159895  086.7 045.0  19-5307ES-HY-199-1930-08670450-0030A-7   \n",
       "675545    27569   675546  081.8 046.9  19-9310NM-MX-295-1348-08180469-0329A-3   \n",
       "672416    27461   672417  093.3 060.0  19-9308NM-MX-225-0927-09330600-0144A-3   \n",
       "54772      1775    54773  050.0 110.0  19-5009BD-HY-254-0330-05001100-0086A-3   \n",
       "679465    27704   679466  080.0 060.0  19-9403JD-PR-094-1810-08000600-0400A-7   \n",
       "3272        107     3273  056.7 136.0  19-4904HO-HY-096-0042-05671360-0250A-7   \n",
       "93414      3114    93415  100.0 090.0  19-5107PT-HY-195-1724-10000900-0050A-7   \n",
       "\n",
       "        depthm  t_degc  salnty  o2ml_l  stheta  o2sat  ...  r_phaeo  r_pres  \\\n",
       "483300     800    4.46  34.430     NaN  27.291    NaN  ...      NaN     806   \n",
       "642574       0   18.35  33.657    5.62  24.159  104.6  ...     0.06       0   \n",
       "62138      259    7.00  34.020    1.90  26.650   27.9  ...      NaN     261   \n",
       "159894      30    9.54  33.970     NaN  26.225    NaN  ...      NaN      30   \n",
       "675545     329    7.73  34.172    1.10  26.668   16.4  ...      NaN     331   \n",
       "672416     144    8.99  33.887    2.88  26.251   44.2  ...     0.08     145   \n",
       "54772       86   11.09  32.880    5.86  25.111   93.7  ...      NaN      86   \n",
       "679465     400    6.30  34.169    0.95  26.862   13.7  ...      NaN     403   \n",
       "3272       250    7.35  33.817    3.06  26.442   45.3  ...      NaN     251   \n",
       "93414       50   14.98  33.496     NaN  24.819    NaN  ...      NaN      50   \n",
       "\n",
       "        r_samp  dic1  dic2  ta1  ta2  ph2  ph1  dic quality comment  \n",
       "483300     NaN   NaN   NaN  NaN  NaN  NaN  NaN                  NaN  \n",
       "642574     NaN   NaN   NaN  NaN  NaN  NaN  NaN                  NaN  \n",
       "62138      NaN   NaN   NaN  NaN  NaN  NaN  NaN                  NaN  \n",
       "159894     NaN   NaN   NaN  NaN  NaN  NaN  NaN                  NaN  \n",
       "675545     NaN   NaN   NaN  NaN  NaN  NaN  NaN                  NaN  \n",
       "672416     NaN   NaN   NaN  NaN  NaN  NaN  NaN                  NaN  \n",
       "54772      NaN   NaN   NaN  NaN  NaN  NaN  NaN                  NaN  \n",
       "679465     NaN   NaN   NaN  NaN  NaN  NaN  NaN                  NaN  \n",
       "3272       NaN   NaN   NaN  NaN  NaN  NaN  NaN                  NaN  \n",
       "93414      NaN   NaN   NaN  NaN  NaN  NaN  NaN                  NaN  \n",
       "\n",
       "[10 rows x 74 columns]"
      ]
     },
     "execution_count": 6,
     "metadata": {},
     "output_type": "execute_result"
    }
   ],
   "source": [
    "raw_df = pd.read_csv('data\\\\raw_data.csv', low_memory=False)\n",
    "raw_df.rename(str.lower, axis='columns', inplace=True)\n",
    "print(raw_df.shape)\n",
    "raw_df.sample(10)"
   ]
  },
  {
   "cell_type": "code",
   "execution_count": 7,
   "id": "68fefee6",
   "metadata": {},
   "outputs": [
    {
     "data": {
      "text/plain": [
       "0"
      ]
     },
     "execution_count": 7,
     "metadata": {},
     "output_type": "execute_result"
    }
   ],
   "source": [
    "raw_df.duplicated().sum() # sanity check"
   ]
  },
  {
   "cell_type": "code",
   "execution_count": 8,
   "id": "8bd86dc8",
   "metadata": {},
   "outputs": [],
   "source": [
    "df = raw_df.copy()"
   ]
  },
  {
   "cell_type": "markdown",
   "id": "da834fb8",
   "metadata": {},
   "source": [
    "## cleanup"
   ]
  },
  {
   "cell_type": "markdown",
   "id": "168c75eb",
   "metadata": {},
   "source": [
    "### nulls"
   ]
  },
  {
   "cell_type": "markdown",
   "id": "10d6d134",
   "metadata": {},
   "source": [
    "we drop every column that has 50% nulls or more"
   ]
  },
  {
   "cell_type": "code",
   "execution_count": 9,
   "id": "97bea4e8",
   "metadata": {},
   "outputs": [
    {
     "name": "stdout",
     "output_type": "stream",
     "text": [
      "# of cols pre cleanup: 74\n",
      "# of cols post cleanup: 36\n",
      "\n",
      "cols:\n",
      "['cst_cnt', 'btl_cnt', 'sta_id', 'depth_id', 'depthm', 't_degc', 'salnty', 'o2ml_l', 'stheta', 'o2sat', 'oxy_µmol/kg', 'recind', 't_prec', 's_prec', 'p_qual', 'chlqua', 'phaqua', 'po4q', 'sio3qu', 'no2q', 'no3q', 'nh3q', 'c14a1q', 'c14a2q', 'darkaq', 'meanaq', 'r_depth', 'r_temp', 'r_potemp', 'r_salinity', 'r_sigma', 'r_sva', 'r_dynht', 'r_o2', 'r_o2sat', 'r_pres']\n"
     ]
    }
   ],
   "source": [
    "filtered_df = remove_mostly_empty_cols(df)"
   ]
  },
  {
   "cell_type": "code",
   "execution_count": 10,
   "id": "81f654a2",
   "metadata": {},
   "outputs": [],
   "source": [
    "df = filtered_df.copy()"
   ]
  },
  {
   "cell_type": "markdown",
   "id": "519b0c10",
   "metadata": {},
   "source": [
    "### junk columns"
   ]
  },
  {
   "cell_type": "markdown",
   "id": "0f06f2b7",
   "metadata": {},
   "source": [
    "we remove columns whose names include:\n",
    "- 'id', 'rec' and 'btl' (measurement identifiers)\n",
    "- 'q' (quality of measurement)\n",
    "- 'prec' (how precise the measurements are)"
   ]
  },
  {
   "cell_type": "code",
   "execution_count": 11,
   "id": "c6ccfef0",
   "metadata": {},
   "outputs": [
    {
     "data": {
      "text/plain": [
       "['sta_id',\n",
       " 'depth_id',\n",
       " 'recind',\n",
       " 't_prec',\n",
       " 's_prec',\n",
       " 'btl_cnt',\n",
       " 'p_qual',\n",
       " 'chlqua',\n",
       " 'phaqua',\n",
       " 'po4q',\n",
       " 'sio3qu',\n",
       " 'no2q',\n",
       " 'no3q',\n",
       " 'nh3q',\n",
       " 'c14a1q',\n",
       " 'c14a2q',\n",
       " 'darkaq',\n",
       " 'meanaq',\n",
       " 't_prec',\n",
       " 's_prec']"
      ]
     },
     "execution_count": 11,
     "metadata": {},
     "output_type": "execute_result"
    }
   ],
   "source": [
    "cols_to_drop = eval('+'.join([f'filter_cols_by_str(\"{name}\")' # ha! a use case for eval!\n",
    " for name in ['id', 'rec', 'btl', 'q', 'prec']]))\n",
    "\n",
    "cols_to_drop"
   ]
  },
  {
   "cell_type": "code",
   "execution_count": 12,
   "id": "868bbf3f",
   "metadata": {},
   "outputs": [
    {
     "data": {
      "text/plain": [
       "True"
      ]
     },
     "execution_count": 12,
     "metadata": {},
     "output_type": "execute_result"
    }
   ],
   "source": [
    "no_junk_df = df.drop(columns = cols_to_drop)\n",
    "sum([col not in no_junk_df.columns\n",
    "     for col in cols_to_drop]) == len(cols_to_drop) # sanity check"
   ]
  },
  {
   "cell_type": "code",
   "execution_count": 13,
   "id": "50193936",
   "metadata": {},
   "outputs": [],
   "source": [
    "df = no_junk_df.copy()"
   ]
  },
  {
   "cell_type": "markdown",
   "id": "7d279e57",
   "metadata": {},
   "source": [
    "### similar columns"
   ]
  },
  {
   "cell_type": "markdown",
   "id": "2467f407",
   "metadata": {},
   "source": [
    "the data pairs a column with a 'reported' column, and the data it holds is about identical. we aim to retain only the reported columns."
   ]
  },
  {
   "cell_type": "code",
   "execution_count": 14,
   "id": "2f2b2211",
   "metadata": {},
   "outputs": [
    {
     "data": {
      "text/plain": [
       "Index(['cst_cnt', 'depthm', 't_degc', 'salnty', 'o2ml_l', 'stheta', 'o2sat',\n",
       "       'oxy_µmol/kg', 'r_depth', 'r_temp', 'r_potemp', 'r_salinity', 'r_sigma',\n",
       "       'r_sva', 'r_dynht', 'r_o2', 'r_o2sat', 'r_pres'],\n",
       "      dtype='object')"
      ]
     },
     "execution_count": 14,
     "metadata": {},
     "output_type": "execute_result"
    }
   ],
   "source": [
    "df.columns"
   ]
  },
  {
   "cell_type": "code",
   "execution_count": 15,
   "id": "a34520e0",
   "metadata": {},
   "outputs": [
    {
     "data": {
      "text/plain": [
       "Index(['r_depth', 'r_temp', 'r_salinity', 'r_sigma', 'r_o2', 'r_o2sat'], dtype='object')"
      ]
     },
     "execution_count": 15,
     "metadata": {},
     "output_type": "execute_result"
    }
   ],
   "source": [
    "duped_cols = df.columns[df.columns.str.contains('r_')].drop('r_potemp r_sva r_dynht r_pres'.split())\n",
    "duped_cols"
   ]
  },
  {
   "cell_type": "code",
   "execution_count": 16,
   "id": "1fbbbeb8",
   "metadata": {},
   "outputs": [
    {
     "name": "stdout",
     "output_type": "stream",
     "text": [
      "\n",
      "# of rows where r_depth and depthm differ in more than 10%:\n",
      "31 rows\n",
      "\n",
      "# of rows where r_temp and t_degc differ in more than 10%:\n",
      "0 rows\n",
      "\n",
      "# of rows where r_salinity and salnty differ in more than 10%:\n",
      "1 rows\n",
      "\n",
      "# of rows where r_sigma and stheta differ in more than 10%:\n",
      "2 rows\n",
      "\n",
      "# of rows where r_o2 and o2ml_l differ in more than 10%:\n",
      "34 rows\n",
      "\n",
      "# of rows where r_o2sat and o2sat differ in more than 10%:\n",
      "26 rows\n"
     ]
    }
   ],
   "source": [
    "col_pairs = {\n",
    "    'r_depth':'depthm',\n",
    "    'r_temp':'t_degc',\n",
    "    'r_salinity':'salnty',\n",
    "    'r_sigma':'stheta',\n",
    "    'r_o2':'o2ml_l',\n",
    "    'r_o2sat':'o2sat',\n",
    "}\n",
    "\n",
    "for col in duped_cols:\n",
    "    compare_similar_cols(col,col_pairs[col])"
   ]
  },
  {
   "cell_type": "markdown",
   "id": "45178248",
   "metadata": {},
   "source": [
    "### column renaming and reordering"
   ]
  },
  {
   "cell_type": "code",
   "execution_count": 17,
   "id": "235f324c",
   "metadata": {},
   "outputs": [
    {
     "data": {
      "text/html": [
       "<div>\n",
       "<style scoped>\n",
       "    .dataframe tbody tr th:only-of-type {\n",
       "        vertical-align: middle;\n",
       "    }\n",
       "\n",
       "    .dataframe tbody tr th {\n",
       "        vertical-align: top;\n",
       "    }\n",
       "\n",
       "    .dataframe thead th {\n",
       "        text-align: right;\n",
       "    }\n",
       "</style>\n",
       "<table border=\"1\" class=\"dataframe\">\n",
       "  <thead>\n",
       "    <tr style=\"text-align: right;\">\n",
       "      <th></th>\n",
       "      <th>temp</th>\n",
       "      <th>pot_temp</th>\n",
       "      <th>sva</th>\n",
       "      <th>o2</th>\n",
       "      <th>o2_molal</th>\n",
       "      <th>o2_sat</th>\n",
       "      <th>depth</th>\n",
       "      <th>pres</th>\n",
       "      <th>dyn_ht</th>\n",
       "      <th>pot_dens</th>\n",
       "      <th>sal</th>\n",
       "      <th>cruise</th>\n",
       "    </tr>\n",
       "  </thead>\n",
       "  <tbody>\n",
       "    <tr>\n",
       "      <th>601044</th>\n",
       "      <td>17.17</td>\n",
       "      <td>17.17</td>\n",
       "      <td>411.2</td>\n",
       "      <td>5.72</td>\n",
       "      <td>249.52200</td>\n",
       "      <td>103.6</td>\n",
       "      <td>0.0</td>\n",
       "      <td>0</td>\n",
       "      <td>0.000</td>\n",
       "      <td>23.770</td>\n",
       "      <td>32.788</td>\n",
       "      <td>24585</td>\n",
       "    </tr>\n",
       "    <tr>\n",
       "      <th>213463</th>\n",
       "      <td>7.90</td>\n",
       "      <td>7.88</td>\n",
       "      <td>151.3</td>\n",
       "      <td>2.65</td>\n",
       "      <td>115.28860</td>\n",
       "      <td>39.8</td>\n",
       "      <td>187.0</td>\n",
       "      <td>188</td>\n",
       "      <td>0.380</td>\n",
       "      <td>26.540</td>\n",
       "      <td>34.050</td>\n",
       "      <td>8160</td>\n",
       "    </tr>\n",
       "    <tr>\n",
       "      <th>550959</th>\n",
       "      <td>5.45</td>\n",
       "      <td>5.40</td>\n",
       "      <td>105.9</td>\n",
       "      <td>NaN</td>\n",
       "      <td>NaN</td>\n",
       "      <td>NaN</td>\n",
       "      <td>600.0</td>\n",
       "      <td>604</td>\n",
       "      <td>1.090</td>\n",
       "      <td>27.070</td>\n",
       "      <td>34.295</td>\n",
       "      <td>22422</td>\n",
       "    </tr>\n",
       "    <tr>\n",
       "      <th>644218</th>\n",
       "      <td>14.51</td>\n",
       "      <td>14.50</td>\n",
       "      <td>312.5</td>\n",
       "      <td>5.88</td>\n",
       "      <td>256.23590</td>\n",
       "      <td>101.3</td>\n",
       "      <td>84.0</td>\n",
       "      <td>84</td>\n",
       "      <td>0.260</td>\n",
       "      <td>24.840</td>\n",
       "      <td>33.391</td>\n",
       "      <td>26388</td>\n",
       "    </tr>\n",
       "    <tr>\n",
       "      <th>145446</th>\n",
       "      <td>9.46</td>\n",
       "      <td>9.43</td>\n",
       "      <td>144.4</td>\n",
       "      <td>0.44</td>\n",
       "      <td>19.14031</td>\n",
       "      <td>6.9</td>\n",
       "      <td>294.0</td>\n",
       "      <td>296</td>\n",
       "      <td>0.670</td>\n",
       "      <td>26.650</td>\n",
       "      <td>34.490</td>\n",
       "      <td>5479</td>\n",
       "    </tr>\n",
       "    <tr>\n",
       "      <th>643446</th>\n",
       "      <td>12.78</td>\n",
       "      <td>12.77</td>\n",
       "      <td>305.5</td>\n",
       "      <td>6.33</td>\n",
       "      <td>275.82990</td>\n",
       "      <td>105.0</td>\n",
       "      <td>42.0</td>\n",
       "      <td>42</td>\n",
       "      <td>0.140</td>\n",
       "      <td>24.890</td>\n",
       "      <td>33.013</td>\n",
       "      <td>26360</td>\n",
       "    </tr>\n",
       "    <tr>\n",
       "      <th>806585</th>\n",
       "      <td>18.50</td>\n",
       "      <td>18.50</td>\n",
       "      <td>400.9</td>\n",
       "      <td>5.85</td>\n",
       "      <td>238.15500</td>\n",
       "      <td>101.8</td>\n",
       "      <td>1.0</td>\n",
       "      <td>1</td>\n",
       "      <td>0.004</td>\n",
       "      <td>23.886</td>\n",
       "      <td>33.349</td>\n",
       "      <td>32142</td>\n",
       "    </tr>\n",
       "    <tr>\n",
       "      <th>514132</th>\n",
       "      <td>17.90</td>\n",
       "      <td>17.90</td>\n",
       "      <td>370.7</td>\n",
       "      <td>5.67</td>\n",
       "      <td>247.23730</td>\n",
       "      <td>104.6</td>\n",
       "      <td>11.0</td>\n",
       "      <td>11</td>\n",
       "      <td>0.040</td>\n",
       "      <td>24.200</td>\n",
       "      <td>33.575</td>\n",
       "      <td>20888</td>\n",
       "    </tr>\n",
       "    <tr>\n",
       "      <th>85296</th>\n",
       "      <td>4.49</td>\n",
       "      <td>4.42</td>\n",
       "      <td>80.5</td>\n",
       "      <td>0.39</td>\n",
       "      <td>16.95355</td>\n",
       "      <td>5.4</td>\n",
       "      <td>900.0</td>\n",
       "      <td>907</td>\n",
       "      <td>1.290</td>\n",
       "      <td>27.360</td>\n",
       "      <td>34.520</td>\n",
       "      <td>2835</td>\n",
       "    </tr>\n",
       "    <tr>\n",
       "      <th>23542</th>\n",
       "      <td>5.59</td>\n",
       "      <td>5.54</td>\n",
       "      <td>102.8</td>\n",
       "      <td>0.53</td>\n",
       "      <td>23.04518</td>\n",
       "      <td>7.5</td>\n",
       "      <td>591.0</td>\n",
       "      <td>595</td>\n",
       "      <td>0.900</td>\n",
       "      <td>27.100</td>\n",
       "      <td>34.360</td>\n",
       "      <td>765</td>\n",
       "    </tr>\n",
       "  </tbody>\n",
       "</table>\n",
       "</div>"
      ],
      "text/plain": [
       "         temp  pot_temp    sva    o2   o2_molal  o2_sat  depth  pres  dyn_ht  \\\n",
       "601044  17.17     17.17  411.2  5.72  249.52200   103.6    0.0     0   0.000   \n",
       "213463   7.90      7.88  151.3  2.65  115.28860    39.8  187.0   188   0.380   \n",
       "550959   5.45      5.40  105.9   NaN        NaN     NaN  600.0   604   1.090   \n",
       "644218  14.51     14.50  312.5  5.88  256.23590   101.3   84.0    84   0.260   \n",
       "145446   9.46      9.43  144.4  0.44   19.14031     6.9  294.0   296   0.670   \n",
       "643446  12.78     12.77  305.5  6.33  275.82990   105.0   42.0    42   0.140   \n",
       "806585  18.50     18.50  400.9  5.85  238.15500   101.8    1.0     1   0.004   \n",
       "514132  17.90     17.90  370.7  5.67  247.23730   104.6   11.0    11   0.040   \n",
       "85296    4.49      4.42   80.5  0.39   16.95355     5.4  900.0   907   1.290   \n",
       "23542    5.59      5.54  102.8  0.53   23.04518     7.5  591.0   595   0.900   \n",
       "\n",
       "        pot_dens     sal  cruise  \n",
       "601044    23.770  32.788   24585  \n",
       "213463    26.540  34.050    8160  \n",
       "550959    27.070  34.295   22422  \n",
       "644218    24.840  33.391   26388  \n",
       "145446    26.650  34.490    5479  \n",
       "643446    24.890  33.013   26360  \n",
       "806585    23.886  33.349   32142  \n",
       "514132    24.200  33.575   20888  \n",
       "85296     27.360  34.520    2835  \n",
       "23542     27.100  34.360     765  "
      ]
     },
     "execution_count": 17,
     "metadata": {},
     "output_type": "execute_result"
    }
   ],
   "source": [
    "df = df.rename(\n",
    "    {'cst_cnt': 'cruise',\n",
    "        'oxy_µmol/kg': 'o2_molal',\n",
    "        'r_depth': 'depth',\n",
    "        'r_temp': 'temp',\n",
    "        'r_potemp': 'pot_temp',\n",
    "        'r_salinity': 'sal',\n",
    "        'r_sigma': 'pot_dens',\n",
    "        'r_sva': 'sva',\n",
    "        'r_dynht': 'dyn_ht',\n",
    "        'r_o2': 'o2',\n",
    "        'r_o2sat': 'o2_sat',\n",
    "        'r_pres': 'pres'},\n",
    "    axis='columns'\n",
    ").loc[:, ['temp',\n",
    "          'pot_temp',\n",
    "          'sva',\n",
    "          'o2',\n",
    "          'o2_molal',\n",
    "          'o2_sat',\n",
    "          'depth',\n",
    "          'pres',\n",
    "          'dyn_ht',\n",
    "          'pot_dens',\n",
    "          'sal',\n",
    "          'cruise']]\n",
    "\n",
    "df.sample(10)"
   ]
  },
  {
   "cell_type": "markdown",
   "id": "5f680a6c",
   "metadata": {},
   "source": [
    "## output"
   ]
  },
  {
   "cell_type": "code",
   "execution_count": 18,
   "id": "b1256c56",
   "metadata": {},
   "outputs": [
    {
     "data": {
      "text/plain": [
       "(864863, 12)"
      ]
     },
     "execution_count": 18,
     "metadata": {},
     "output_type": "execute_result"
    }
   ],
   "source": [
    "df.shape"
   ]
  },
  {
   "cell_type": "code",
   "execution_count": 19,
   "id": "3b1f65cd",
   "metadata": {},
   "outputs": [
    {
     "data": {
      "text/plain": [
       "Index(['temp', 'pot_temp', 'sva', 'o2', 'o2_molal', 'o2_sat', 'depth', 'pres',\n",
       "       'dyn_ht', 'pot_dens', 'sal', 'cruise'],\n",
       "      dtype='object')"
      ]
     },
     "execution_count": 19,
     "metadata": {},
     "output_type": "execute_result"
    }
   ],
   "source": [
    "df.columns"
   ]
  },
  {
   "cell_type": "code",
   "execution_count": 20,
   "id": "a4be965e",
   "metadata": {},
   "outputs": [],
   "source": [
    "df.to_csv('data\\\\clean_data.csv', index=False)"
   ]
  }
 ],
 "metadata": {
  "kernelspec": {
   "display_name": "Python 3 (ipykernel)",
   "language": "python",
   "name": "python3"
  },
  "language_info": {
   "codemirror_mode": {
    "name": "ipython",
    "version": 3
   },
   "file_extension": ".py",
   "mimetype": "text/x-python",
   "name": "python",
   "nbconvert_exporter": "python",
   "pygments_lexer": "ipython3",
   "version": "3.9.7"
  },
  "toc": {
   "base_numbering": 1,
   "nav_menu": {},
   "number_sections": true,
   "sideBar": true,
   "skip_h1_title": true,
   "title_cell": "Table of Contents",
   "title_sidebar": "Contents",
   "toc_cell": false,
   "toc_position": {},
   "toc_section_display": true,
   "toc_window_display": false
  }
 },
 "nbformat": 4,
 "nbformat_minor": 5
}
